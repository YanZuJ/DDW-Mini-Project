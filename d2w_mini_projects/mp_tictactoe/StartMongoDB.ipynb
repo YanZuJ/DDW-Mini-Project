{
 "cells": [
  {
   "cell_type": "markdown",
   "metadata": {},
   "source": [
    "# Starting with MongoDB"
   ]
  },
  {
   "cell_type": "markdown",
   "metadata": {},
   "source": [
    "You can find the complete tutorial in [Get Started with MongoDB Atlas](https://docs.atlas.mongodb.com/getting-started). In this notebook and the mini project, we will be using PyMongoDB driver to connect to our Non-SQL MongoDB database. If you follow the steps in the Mini Project, you should already have `pymongo` in your virtual environment. \n",
    "\n",
    "**You should run this jupyter notebook from your virtual environment where you have installed `pymongo`**."
   ]
  },
  {
   "cell_type": "code",
   "execution_count": 10,
   "metadata": {},
   "outputs": [],
   "source": [
    "import pymongo"
   ]
  },
  {
   "cell_type": "markdown",
   "metadata": {},
   "source": [
    "If you have installed properly, running the above cell should produce no error.\n",
    "\n",
    "Next, copy the driver code into the cell below. See the screenshot where to get the driver code.\n",
    "\n",
    "![](https://www.dropbox.com/s/hqpxmx297pbpjgx/mp3_connect_cluster3.png?raw=1)\n"
   ]
  },
  {
   "cell_type": "code",
   "execution_count": 21,
   "metadata": {},
   "outputs": [],
   "source": [
    "# Copy the driver code from MongoDB\n",
    "# replace the \"password\" with your password that you \n",
    "# created for the user\n",
    "\n",
    "client = None"
   ]
  },
  {
   "cell_type": "markdown",
   "metadata": {},
   "source": [
    "## Creating a New Database\n",
    "\n",
    "To create a new database called \"test\" simply run the code below."
   ]
  },
  {
   "cell_type": "code",
   "execution_count": 22,
   "metadata": {},
   "outputs": [],
   "source": [
    "# this command creates a new database on your cluster called test\n",
    "# the variable db points to your database\n",
    "db = client.test"
   ]
  },
  {
   "cell_type": "markdown",
   "metadata": {},
   "source": [
    "## Creating a Collection\n",
    "\n",
    "In MongoDB, one Database can contains many collections. You can consider your collection a kind of your table. So in the code below, we are creating a collection called \"people\"."
   ]
  },
  {
   "cell_type": "code",
   "execution_count": 23,
   "metadata": {},
   "outputs": [],
   "source": [
    "# this create a collection called people\n",
    "people = db.people"
   ]
  },
  {
   "cell_type": "markdown",
   "metadata": {},
   "source": [
    "## Creating a New Document\n",
    "\n",
    "The data inside a collection is what is called Document. Document in MongoDB can be considered like a Dictionary in Python. So to create a document, we simply create a dictionary in Python. For example, we create a dictionary variable called `person_document` in the cell below."
   ]
  },
  {
   "cell_type": "code",
   "execution_count": 24,
   "metadata": {},
   "outputs": [],
   "source": [
    "import datetime\n",
    "\n",
    "person_document = {\n",
    "    \"name\": {\"first\": \"Alan\", \"last\": \"Turing\"},\n",
    "    \"birth\": datetime.datetime(1912, 6, 23),\n",
    "    \"death\": datetime.datetime(1954, 6, 7),\n",
    "    \"contribs\": [\"Turing Machine\", \"Turing test\", \"Turingery\"],\n",
    "    \"views\": 125000\n",
    "}"
   ]
  },
  {
   "cell_type": "markdown",
   "metadata": {},
   "source": [
    "## Inserting Document into Collection\n",
    "\n",
    "To inser the document into the collection, we use the collection method called `insert_one(document)`. Run the cell below to insert the document."
   ]
  },
  {
   "cell_type": "code",
   "execution_count": null,
   "metadata": {},
   "outputs": [],
   "source": [
    "# this insert the document into your collection:\n",
    "people.insert_one(person_document)"
   ]
  },
  {
   "cell_type": "markdown",
   "metadata": {},
   "source": [
    "We can check if we successfully inserted from the web interface. To do that. Go to your cluster and click \"Collection\".\n",
    "\n",
    "![](https://www.dropbox.com/s/r305dsr789kdle2/mp3_collections.png?raw=1)\n",
    "\n",
    "You can browse your collection to find \"test\" and open up to see the documents inside the collection.\n",
    "\n",
    "![](https://www.dropbox.com/s/9do5rteqpc3v8ok/mp3_document.png?raw=1)"
   ]
  },
  {
   "cell_type": "markdown",
   "metadata": {},
   "source": [
    "## Viewing Your Data from PyMongo\n",
    "\n",
    "You can also use collection's method to find and view your data. To find one instance of data in the collection `people`, you can run the following command."
   ]
  },
  {
   "cell_type": "code",
   "execution_count": 25,
   "metadata": {},
   "outputs": [
    {
     "name": "stdout",
     "output_type": "stream",
     "text": [
      "{'_id': ObjectId('600e6829f6bc14346954eeeb'), 'name': {'first': 'Alan', 'last': 'Turing'}, 'birth': datetime.datetime(1912, 6, 23, 0, 0), 'death': datetime.datetime(1954, 6, 7, 0, 0), 'contribs': ['Turing Machine', 'Turing test', 'Turingery'], 'views': 125000}\n"
     ]
    }
   ],
   "source": [
    "result = people.find_one({\"name.last\": \"Turing\"})\n",
    "print(result)"
   ]
  },
  {
   "cell_type": "markdown",
   "metadata": {},
   "source": [
    "Note the following:\n",
    "\n",
    "- We use the method called `find_one()`.\n",
    "- The argument for that method is the criteria for the search. In this case we want the last name to be \"Turing\".\n",
    "- `name` is a child node inside `people` collection.\n",
    "- `last` is a child node under `name`. We can access the child node using the dot operator like in `name.last`. "
   ]
  },
  {
   "cell_type": "markdown",
   "metadata": {},
   "source": [
    "## Database Operations"
   ]
  },
  {
   "cell_type": "markdown",
   "metadata": {},
   "source": [
    "We have seen that we can create a collection from a database using something like:\n",
    "```\n",
    "collection = db.new_collection\n",
    "```\n",
    "\n",
    "We can also do the same using dictionary style access\n",
    "```\n",
    "collection = db['new_collection']\n",
    "```\n",
    "\n",
    "The same way is used for both:\n",
    "\n",
    "- creating a new collection\n",
    "- getting access to the collection object"
   ]
  },
  {
   "cell_type": "code",
   "execution_count": 26,
   "metadata": {},
   "outputs": [
    {
     "name": "stdout",
     "output_type": "stream",
     "text": [
      "Collection(Database(MongoClient(host=['cluster0-shard-00-01.yf8aj.mongodb.net:27017', 'cluster0-shard-00-00.yf8aj.mongodb.net:27017', 'cluster0-shard-00-02.yf8aj.mongodb.net:27017'], document_class=dict, tz_aware=False, connect=True, retrywrites=True, w='majority', authsource='admin', replicaset='atlas-g20yh2-shard-0', ssl=True), 'test'), 'people')\n"
     ]
    }
   ],
   "source": [
    "people = db['people']\n",
    "print(people)"
   ]
  },
  {
   "cell_type": "markdown",
   "metadata": {},
   "source": [
    "Let's say if we want to create a new collection for each user name, we can do the following:"
   ]
  },
  {
   "cell_type": "code",
   "execution_count": 27,
   "metadata": {},
   "outputs": [
    {
     "name": "stdout",
     "output_type": "stream",
     "text": [
      "Collection(Database(MongoClient(host=['cluster0-shard-00-01.yf8aj.mongodb.net:27017', 'cluster0-shard-00-00.yf8aj.mongodb.net:27017', 'cluster0-shard-00-02.yf8aj.mongodb.net:27017'], document_class=dict, tz_aware=False, connect=True, retrywrites=True, w='majority', authsource='admin', replicaset='atlas-g20yh2-shard-0', ssl=True), 'test'), 'user_1')\n"
     ]
    }
   ],
   "source": [
    "username = 'user_1'\n",
    "collection = db[username]\n",
    "print(collection)\n"
   ]
  },
  {
   "cell_type": "markdown",
   "metadata": {},
   "source": [
    "## Collection Operations\n",
    "\n",
    "### Inserting Document\n",
    "We have seen that we can use `insert_one(document)` and `find_one(criteria)` as part of collection's methods. Before using `insert_one(document)`, we have to create a document as a type of dictionary."
   ]
  },
  {
   "cell_type": "code",
   "execution_count": 28,
   "metadata": {},
   "outputs": [
    {
     "data": {
      "text/plain": [
       "<pymongo.results.InsertOneResult at 0x7f8c188075f0>"
      ]
     },
     "execution_count": 28,
     "metadata": {},
     "output_type": "execute_result"
    }
   ],
   "source": [
    "board = [['X', '_', 'O'],\n",
    "         ['O', 'X', '_'],\n",
    "         ['X', '_', 'O']]\n",
    "data = {'cell': board, 'mark': 'X'}\n",
    "collection.insert_one(data)"
   ]
  },
  {
   "cell_type": "markdown",
   "metadata": {},
   "source": [
    "You should see the result in the MongoDB Atlas portal.\n",
    "\n",
    "![](https://www.dropbox.com/s/65b56hfcv184g4x/mp3_insert.png?raw=1)"
   ]
  },
  {
   "cell_type": "markdown",
   "metadata": {},
   "source": [
    "### Counting Number of Documents\n",
    "\n",
    "We can count how many documents are there in the collection using the `count_documents()` method. The argument for this method is the search criteria of the documents you want to count. If you want to count all documents, then you can leave it as empty `{}`:"
   ]
  },
  {
   "cell_type": "code",
   "execution_count": 29,
   "metadata": {},
   "outputs": [
    {
     "name": "stdout",
     "output_type": "stream",
     "text": [
      "2\n"
     ]
    }
   ],
   "source": [
    "num = collection.count_documents({})\n",
    "print(num)"
   ]
  },
  {
   "cell_type": "markdown",
   "metadata": {},
   "source": [
    "### Finding Documents in a Collection\n",
    "\n",
    "To find one document that satisfies some criteria, we can use `find_one(criteria)` method. For example,"
   ]
  },
  {
   "cell_type": "code",
   "execution_count": 30,
   "metadata": {},
   "outputs": [
    {
     "name": "stdout",
     "output_type": "stream",
     "text": [
      "{'_id': ObjectId('600e6829f6bc14346954eeeb'), 'name': {'first': 'Alan', 'last': 'Turing'}, 'birth': datetime.datetime(1912, 6, 23, 0, 0), 'death': datetime.datetime(1954, 6, 7, 0, 0), 'contribs': ['Turing Machine', 'Turing test', 'Turingery'], 'views': 125000}\n"
     ]
    }
   ],
   "source": [
    "turing = people.find_one({\"name.last\": \"Turing\"})\n",
    "print(turing)"
   ]
  },
  {
   "cell_type": "markdown",
   "metadata": {},
   "source": [
    "Note the following:\n",
    "- `name` is the one of child nodes in the document under `people` collection.\n",
    "- You can access the following child nodes using the dot operator as in `name.last` to access the node `last` under the node `name`."
   ]
  },
  {
   "cell_type": "markdown",
   "metadata": {},
   "source": [
    "You can get more than one documents using the method `find()`. In fact, `find()` gives you an iterator which you can iterate as in the following code."
   ]
  },
  {
   "cell_type": "code",
   "execution_count": 33,
   "metadata": {},
   "outputs": [
    {
     "name": "stdout",
     "output_type": "stream",
     "text": [
      "[['X', '_', 'O'], ['O', 'X', '_'], ['X', '_', 'O']]\n",
      "[['X', '_', 'O'], ['O', 'X', '_'], ['X', '_', 'O']]\n"
     ]
    }
   ],
   "source": [
    "for item in collection.find():\n",
    "    print(item['cell'])"
   ]
  },
  {
   "cell_type": "markdown",
   "metadata": {},
   "source": [
    "You can also put some criteria in `find()` to limit the search."
   ]
  },
  {
   "cell_type": "code",
   "execution_count": 35,
   "metadata": {},
   "outputs": [
    {
     "name": "stdout",
     "output_type": "stream",
     "text": [
      "[['X', '_', 'O'], ['O', 'X', '_'], ['X', '_', 'O']]\n",
      "[['X', '_', 'O'], ['O', 'X', '_'], ['X', '_', 'O']]\n"
     ]
    }
   ],
   "source": [
    "result = collection.find({'mark': 'X'})\n",
    "for item in result:\n",
    "    print(item['cell'])"
   ]
  },
  {
   "cell_type": "markdown",
   "metadata": {},
   "source": [
    "We can also limit the search result using `limit()` method."
   ]
  },
  {
   "cell_type": "code",
   "execution_count": 38,
   "metadata": {},
   "outputs": [
    {
     "name": "stdout",
     "output_type": "stream",
     "text": [
      "[['X', '_', 'O'], ['O', 'X', '_'], ['X', '_', 'O']]\n"
     ]
    }
   ],
   "source": [
    "result = collection.find().limit(1)\n",
    "for item in result:\n",
    "    print(item['cell'])"
   ]
  },
  {
   "cell_type": "markdown",
   "metadata": {},
   "source": [
    "Note that the output of `find()` method is a `Cursor` object which is an iterator. You can access the elements using the index and a square bracket."
   ]
  },
  {
   "cell_type": "code",
   "execution_count": 40,
   "metadata": {},
   "outputs": [
    {
     "name": "stdout",
     "output_type": "stream",
     "text": [
      "{'_id': ObjectId('600e794df6bc14346954eeee'), 'cell': [['X', '_', 'O'], ['O', 'X', '_'], ['X', '_', 'O']], 'mark': 'X'}\n",
      "[['X', '_', 'O'], ['O', 'X', '_'], ['X', '_', 'O']]\n"
     ]
    }
   ],
   "source": [
    "result = collection.find()\n",
    "print(result[0])\n",
    "print(result[0]['cell'])"
   ]
  },
  {
   "cell_type": "markdown",
   "metadata": {},
   "source": [
    "# References\n",
    "- [pymongo Tutorial](https://pymongo.readthedocs.io/en/stable/tutorial.html)\n",
    "- [pymongo Database API](https://pymongo.readthedocs.io/en/stable/api/pymongo/database.html)\n",
    "- [pymongo Collection API](https://pymongo.readthedocs.io/en/stable/api/pymongo/collection.html)"
   ]
  },
  {
   "cell_type": "code",
   "execution_count": null,
   "metadata": {},
   "outputs": [],
   "source": []
  }
 ],
 "metadata": {
  "kernelspec": {
   "display_name": "Python 3",
   "language": "python",
   "name": "python3"
  },
  "language_info": {
   "codemirror_mode": {
    "name": "ipython",
    "version": 3
   },
   "file_extension": ".py",
   "mimetype": "text/x-python",
   "name": "python",
   "nbconvert_exporter": "python",
   "pygments_lexer": "ipython3",
   "version": "3.7.4"
  }
 },
 "nbformat": 4,
 "nbformat_minor": 4
}
